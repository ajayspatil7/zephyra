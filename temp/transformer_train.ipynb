{
 "cells": [
  {
   "cell_type": "code",
   "execution_count": 45,
   "metadata": {},
   "outputs": [],
   "source": [
    "import pandas as pd\n",
    "import ast"
   ]
  },
  {
   "cell_type": "code",
   "execution_count": 48,
   "metadata": {},
   "outputs": [],
   "source": [
    "data = pd.read_csv(\"./dataset.csv\")\n",
    "new_Data = []"
   ]
  },
  {
   "cell_type": "code",
   "execution_count": 49,
   "metadata": {},
   "outputs": [],
   "source": [
    "for x, row in data.iterrows():\n",
    "    questions = row['question']\n",
    "    best_answer = row['best_answer']\n",
    "    \n",
    "    correct_answer = ast.literal_eval(row['correct_answers'])\n",
    "    incorrect_answer = ast.literal_eval(row['incorrect_answers'])\n",
    "\n",
    "    answers = correct_answer + incorrect_answer\n",
    "\n",
    "    for ans in answers:\n",
    "        new_Data.append(f\"Questions: {questions} Answers: {ans}\")\n",
    "    \n",
    "    new_Data.append(f\"Questions: {questions} Best Answers: {best_answer}\")\n"
   ]
  },
  {
   "cell_type": "code",
   "execution_count": 50,
   "metadata": {},
   "outputs": [],
   "source": [
    "with open('./cleanData.txt', 'w', encoding='utf-8') as cd:\n",
    "    for items in new_Data:\n",
    "        cd.write(f\"{items}\\n\")\n"
   ]
  }
 ],
 "metadata": {
  "kernelspec": {
   "display_name": "Python 3",
   "language": "python",
   "name": "python3"
  },
  "language_info": {
   "codemirror_mode": {
    "name": "ipython",
    "version": 3
   },
   "file_extension": ".py",
   "mimetype": "text/x-python",
   "name": "python",
   "nbconvert_exporter": "python",
   "pygments_lexer": "ipython3",
   "version": "3.12.0"
  }
 },
 "nbformat": 4,
 "nbformat_minor": 2
}
